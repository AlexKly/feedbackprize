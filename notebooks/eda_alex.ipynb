{
 "cells": [
  {
   "cell_type": "markdown",
   "id": "003b1be1",
   "metadata": {},
   "source": [
    "# FeedBack Prize: EDA"
   ]
  },
  {
   "cell_type": "markdown",
   "id": "0eebca4f",
   "metadata": {},
   "source": [
    "## Requirments:"
   ]
  },
  {
   "cell_type": "code",
   "execution_count": 2,
   "id": "c39de14c",
   "metadata": {},
   "outputs": [
    {
     "name": "stdout",
     "output_type": "stream",
     "text": [
      "Requirement already satisfied: pandas in /home/alexkly/.local/lib/python3.8/site-packages (1.5.0)\n",
      "Requirement already satisfied: python-dateutil>=2.8.1 in /home/alexkly/.local/lib/python3.8/site-packages (from pandas) (2.8.2)\n",
      "Requirement already satisfied: pytz>=2020.1 in /home/alexkly/.local/lib/python3.8/site-packages (from pandas) (2022.2.1)\n",
      "Requirement already satisfied: numpy>=1.20.3; python_version < \"3.10\" in /usr/local/lib/python3.8/dist-packages (from pandas) (1.21.4)\n",
      "Requirement already satisfied: six>=1.5 in /usr/lib/python3/dist-packages (from python-dateutil>=2.8.1->pandas) (1.14.0)\n"
     ]
    }
   ],
   "source": [
    "!pip install pandas"
   ]
  },
  {
   "cell_type": "markdown",
   "id": "9a7ca2f5",
   "metadata": {},
   "source": [
    "## Libraries"
   ]
  },
  {
   "cell_type": "code",
   "execution_count": 19,
   "id": "d06285c5",
   "metadata": {},
   "outputs": [],
   "source": [
    "import spacy\n",
    "import pandas as pd\n",
    "from collections import Counter"
   ]
  },
  {
   "cell_type": "markdown",
   "id": "6de182ef",
   "metadata": {},
   "source": [
    "## Configs"
   ]
  },
  {
   "cell_type": "code",
   "execution_count": 21,
   "id": "08fbb8bb",
   "metadata": {},
   "outputs": [],
   "source": [
    "class CFG:\n",
    "    # File paths:\n",
    "    common_path = '/srv/dataset/datafbp'\n",
    "    train_path = f'{common_path}/train.csv'\n",
    "    test_path = f'{common_path}/test.csv'\n",
    "    sub_path = f'{common_path}/sample_submission.csv'\n",
    "    \n",
    "    # Tokenizer:\n",
    "    tokenizer = spacy.load('ru_core_news_sm', disable=['tok2vec', 'parser', 'attribute_ruler', 'ner'])"
   ]
  },
  {
   "cell_type": "markdown",
   "id": "c1ab0d91",
   "metadata": {},
   "source": [
    "## Load dataframe"
   ]
  },
  {
   "cell_type": "code",
   "execution_count": 5,
   "id": "09db1270",
   "metadata": {},
   "outputs": [],
   "source": [
    "train_df = pd.read_csv(CFG.train_path)\n",
    "test_df = pd.read_csv(CFG.test_path)"
   ]
  },
  {
   "cell_type": "code",
   "execution_count": 6,
   "id": "08a07fe5",
   "metadata": {},
   "outputs": [
    {
     "data": {
      "text/html": [
       "<div>\n",
       "<style scoped>\n",
       "    .dataframe tbody tr th:only-of-type {\n",
       "        vertical-align: middle;\n",
       "    }\n",
       "\n",
       "    .dataframe tbody tr th {\n",
       "        vertical-align: top;\n",
       "    }\n",
       "\n",
       "    .dataframe thead th {\n",
       "        text-align: right;\n",
       "    }\n",
       "</style>\n",
       "<table border=\"1\" class=\"dataframe\">\n",
       "  <thead>\n",
       "    <tr style=\"text-align: right;\">\n",
       "      <th></th>\n",
       "      <th>text_id</th>\n",
       "      <th>full_text</th>\n",
       "      <th>cohesion</th>\n",
       "      <th>syntax</th>\n",
       "      <th>vocabulary</th>\n",
       "      <th>phraseology</th>\n",
       "      <th>grammar</th>\n",
       "      <th>conventions</th>\n",
       "    </tr>\n",
       "  </thead>\n",
       "  <tbody>\n",
       "    <tr>\n",
       "      <th>0</th>\n",
       "      <td>0016926B079C</td>\n",
       "      <td>I think that students would benefit from learn...</td>\n",
       "      <td>3.5</td>\n",
       "      <td>3.5</td>\n",
       "      <td>3.0</td>\n",
       "      <td>3.0</td>\n",
       "      <td>4.0</td>\n",
       "      <td>3.0</td>\n",
       "    </tr>\n",
       "    <tr>\n",
       "      <th>1</th>\n",
       "      <td>0022683E9EA5</td>\n",
       "      <td>When a problem is a change you have to let it ...</td>\n",
       "      <td>2.5</td>\n",
       "      <td>2.5</td>\n",
       "      <td>3.0</td>\n",
       "      <td>2.0</td>\n",
       "      <td>2.0</td>\n",
       "      <td>2.5</td>\n",
       "    </tr>\n",
       "    <tr>\n",
       "      <th>2</th>\n",
       "      <td>00299B378633</td>\n",
       "      <td>Dear, Principal\\n\\nIf u change the school poli...</td>\n",
       "      <td>3.0</td>\n",
       "      <td>3.5</td>\n",
       "      <td>3.0</td>\n",
       "      <td>3.0</td>\n",
       "      <td>3.0</td>\n",
       "      <td>2.5</td>\n",
       "    </tr>\n",
       "    <tr>\n",
       "      <th>3</th>\n",
       "      <td>003885A45F42</td>\n",
       "      <td>The best time in life is when you become yours...</td>\n",
       "      <td>4.5</td>\n",
       "      <td>4.5</td>\n",
       "      <td>4.5</td>\n",
       "      <td>4.5</td>\n",
       "      <td>4.0</td>\n",
       "      <td>5.0</td>\n",
       "    </tr>\n",
       "    <tr>\n",
       "      <th>4</th>\n",
       "      <td>0049B1DF5CCC</td>\n",
       "      <td>Small act of kindness can impact in other peop...</td>\n",
       "      <td>2.5</td>\n",
       "      <td>3.0</td>\n",
       "      <td>3.0</td>\n",
       "      <td>3.0</td>\n",
       "      <td>2.5</td>\n",
       "      <td>2.5</td>\n",
       "    </tr>\n",
       "    <tr>\n",
       "      <th>...</th>\n",
       "      <td>...</td>\n",
       "      <td>...</td>\n",
       "      <td>...</td>\n",
       "      <td>...</td>\n",
       "      <td>...</td>\n",
       "      <td>...</td>\n",
       "      <td>...</td>\n",
       "      <td>...</td>\n",
       "    </tr>\n",
       "    <tr>\n",
       "      <th>3906</th>\n",
       "      <td>FFD29828A873</td>\n",
       "      <td>I believe using cellphones in class for educat...</td>\n",
       "      <td>2.5</td>\n",
       "      <td>3.0</td>\n",
       "      <td>3.0</td>\n",
       "      <td>3.5</td>\n",
       "      <td>2.5</td>\n",
       "      <td>2.5</td>\n",
       "    </tr>\n",
       "    <tr>\n",
       "      <th>3907</th>\n",
       "      <td>FFD9A83B0849</td>\n",
       "      <td>Working alone, students do not have to argue w...</td>\n",
       "      <td>4.0</td>\n",
       "      <td>4.0</td>\n",
       "      <td>4.0</td>\n",
       "      <td>4.0</td>\n",
       "      <td>3.5</td>\n",
       "      <td>3.0</td>\n",
       "    </tr>\n",
       "    <tr>\n",
       "      <th>3908</th>\n",
       "      <td>FFDC4011AC9C</td>\n",
       "      <td>\"A problem is a chance for you to do your best...</td>\n",
       "      <td>2.5</td>\n",
       "      <td>3.0</td>\n",
       "      <td>3.0</td>\n",
       "      <td>3.0</td>\n",
       "      <td>3.5</td>\n",
       "      <td>3.0</td>\n",
       "    </tr>\n",
       "    <tr>\n",
       "      <th>3909</th>\n",
       "      <td>FFE16D704B16</td>\n",
       "      <td>Many people disagree with Albert Schweitzer's ...</td>\n",
       "      <td>4.0</td>\n",
       "      <td>4.5</td>\n",
       "      <td>4.5</td>\n",
       "      <td>4.0</td>\n",
       "      <td>4.5</td>\n",
       "      <td>4.5</td>\n",
       "    </tr>\n",
       "    <tr>\n",
       "      <th>3910</th>\n",
       "      <td>FFED00D6E0BD</td>\n",
       "      <td>Do you think that failure is the main thing fo...</td>\n",
       "      <td>3.5</td>\n",
       "      <td>2.5</td>\n",
       "      <td>3.5</td>\n",
       "      <td>3.0</td>\n",
       "      <td>3.0</td>\n",
       "      <td>3.5</td>\n",
       "    </tr>\n",
       "  </tbody>\n",
       "</table>\n",
       "<p>3911 rows × 8 columns</p>\n",
       "</div>"
      ],
      "text/plain": [
       "           text_id                                          full_text  \\\n",
       "0     0016926B079C  I think that students would benefit from learn...   \n",
       "1     0022683E9EA5  When a problem is a change you have to let it ...   \n",
       "2     00299B378633  Dear, Principal\\n\\nIf u change the school poli...   \n",
       "3     003885A45F42  The best time in life is when you become yours...   \n",
       "4     0049B1DF5CCC  Small act of kindness can impact in other peop...   \n",
       "...            ...                                                ...   \n",
       "3906  FFD29828A873  I believe using cellphones in class for educat...   \n",
       "3907  FFD9A83B0849  Working alone, students do not have to argue w...   \n",
       "3908  FFDC4011AC9C  \"A problem is a chance for you to do your best...   \n",
       "3909  FFE16D704B16  Many people disagree with Albert Schweitzer's ...   \n",
       "3910  FFED00D6E0BD  Do you think that failure is the main thing fo...   \n",
       "\n",
       "      cohesion  syntax  vocabulary  phraseology  grammar  conventions  \n",
       "0          3.5     3.5         3.0          3.0      4.0          3.0  \n",
       "1          2.5     2.5         3.0          2.0      2.0          2.5  \n",
       "2          3.0     3.5         3.0          3.0      3.0          2.5  \n",
       "3          4.5     4.5         4.5          4.5      4.0          5.0  \n",
       "4          2.5     3.0         3.0          3.0      2.5          2.5  \n",
       "...        ...     ...         ...          ...      ...          ...  \n",
       "3906       2.5     3.0         3.0          3.5      2.5          2.5  \n",
       "3907       4.0     4.0         4.0          4.0      3.5          3.0  \n",
       "3908       2.5     3.0         3.0          3.0      3.5          3.0  \n",
       "3909       4.0     4.5         4.5          4.0      4.5          4.5  \n",
       "3910       3.5     2.5         3.5          3.0      3.0          3.5  \n",
       "\n",
       "[3911 rows x 8 columns]"
      ]
     },
     "execution_count": 6,
     "metadata": {},
     "output_type": "execute_result"
    }
   ],
   "source": [
    "train_df"
   ]
  },
  {
   "cell_type": "markdown",
   "id": "85fff1b1",
   "metadata": {},
   "source": [
    "## Text preprocessing (Lite)"
   ]
  },
  {
   "cell_type": "code",
   "execution_count": null,
   "id": "0efed05c",
   "metadata": {},
   "outputs": [],
   "source": [
    "# Check list:\n",
    "# \\n\\n\n",
    "# Generic_City\n",
    "# Jefferson"
   ]
  },
  {
   "cell_type": "code",
   "execution_count": 32,
   "id": "11ac7207",
   "metadata": {},
   "outputs": [],
   "source": [
    "word_counter = Counter()\n",
    "for text in train_df.full_text:\n",
    "    text = CFG.tokenizer(text)\n",
    "    tokens = [token for token in text]\n",
    "    for word in tokens:\n",
    "        word_counter.update([str(word)])"
   ]
  },
  {
   "cell_type": "code",
   "execution_count": 33,
   "id": "8cba898f",
   "metadata": {},
   "outputs": [
    {
     "data": {
      "text/plain": [
       "[('to', 71079),\n",
       " ('.', 69287),\n",
       " (',', 54804),\n",
       " ('the', 53063),\n",
       " ('and', 47105),\n",
       " ('you', 37758),\n",
       " ('a', 36007),\n",
       " ('that', 30050),\n",
       " ('is', 26333),\n",
       " ('in', 25831)]"
      ]
     },
     "execution_count": 33,
     "metadata": {},
     "output_type": "execute_result"
    }
   ],
   "source": [
    "word_counter.most_common(10)"
   ]
  },
  {
   "cell_type": "code",
   "execution_count": 44,
   "id": "751d80b2",
   "metadata": {},
   "outputs": [
    {
     "data": {
      "text/plain": [
       "[('case', 240),\n",
       " ('likely', 239),\n",
       " ('either', 238),\n",
       " ('move', 238),\n",
       " ('safe', 238),\n",
       " ('child', 237),\n",
       " ('few', 236),\n",
       " ('telling', 236),\n",
       " ('sick', 236),\n",
       " (\"'\", 234),\n",
       " ('Jefferson', 234),\n",
       " ('gain', 233),\n",
       " ('fight', 233),\n",
       " ('teaching', 233),\n",
       " ('elective', 232),\n",
       " ('Like', 231),\n",
       " ('sometime', 231),\n",
       " ('Thomas', 231),\n",
       " ('Everyone', 229),\n",
       " ('open', 229),\n",
       " ('role', 229),\n",
       " ('interest', 229),\n",
       " ('4', 229),\n",
       " ('greatest', 228),\n",
       " ('says', 228),\n",
       " ('develop', 228),\n",
       " ('educational', 228),\n",
       " ('form', 228),\n",
       " ('usually', 227),\n",
       " ('multiple', 227),\n",
       " ('somebody', 227),\n",
       " ('living', 227),\n",
       " (\"isn't\", 226),\n",
       " ('assignments', 226),\n",
       " ('famous', 226),\n",
       " ('extracurricular', 226),\n",
       " ('small', 225),\n",
       " ('morning', 224),\n",
       " ('goes', 224),\n",
       " ('vacation', 224),\n",
       " ('comfortable', 223),\n",
       " ('communicate', 223),\n",
       " ('yes', 223),\n",
       " ('board', 223),\n",
       " ('course', 222),\n",
       " ('quote', 222),\n",
       " ('asked', 222),\n",
       " ('result', 221),\n",
       " ('chose', 221),\n",
       " ('saw', 221),\n",
       " ('lots', 220),\n",
       " ('interested', 220),\n",
       " ('collage', 219),\n",
       " (')', 218),\n",
       " ('watch', 217),\n",
       " ('On', 217),\n",
       " ('persons', 216),\n",
       " ('short', 216),\n",
       " ('waste', 215),\n",
       " ('principal', 215),\n",
       " ('participate', 214),\n",
       " ('moment', 214),\n",
       " ('setting', 214),\n",
       " ('became', 213),\n",
       " ('knew', 213),\n",
       " ('sister', 213),\n",
       " ('head', 212),\n",
       " ('amount', 212),\n",
       " ('personal', 211),\n",
       " ('knows', 211),\n",
       " ('tried', 210),\n",
       " ('interesting', 210),\n",
       " ('distracted', 210),\n",
       " ('schedule', 210),\n",
       " ('parent', 210),\n",
       " ('becuase', 209),\n",
       " ('normal', 209),\n",
       " ('helped', 209),\n",
       " ('lost', 209),\n",
       " ('write', 209),\n",
       " ('required', 208),\n",
       " ('service', 208),\n",
       " ('assignment', 208),\n",
       " ('High', 208),\n",
       " ('Churchill', 208),\n",
       " ('word', 207),\n",
       " ('writing', 207),\n",
       " ('thinks', 206),\n",
       " ('healthier', 206),\n",
       " ('relax', 206),\n",
       " ('language', 205),\n",
       " ('humans', 205),\n",
       " ('join', 205),\n",
       " ('communication', 205),\n",
       " ('low', 203),\n",
       " ('changing', 203),\n",
       " ('showing', 203),\n",
       " ('Ralph', 203),\n",
       " ('view', 202),\n",
       " ('constantly', 201)]"
      ]
     },
     "execution_count": 44,
     "metadata": {},
     "output_type": "execute_result"
    }
   ],
   "source": [
    "n = 7\n",
    "word_counter.most_common()[int(100 * n):int(100 * (n + 1))]"
   ]
  },
  {
   "cell_type": "code",
   "execution_count": null,
   "id": "51cc439d",
   "metadata": {},
   "outputs": [],
   "source": []
  },
  {
   "cell_type": "code",
   "execution_count": null,
   "id": "c8396c38",
   "metadata": {},
   "outputs": [],
   "source": []
  },
  {
   "cell_type": "code",
   "execution_count": null,
   "id": "9efec299",
   "metadata": {},
   "outputs": [],
   "source": []
  }
 ],
 "metadata": {
  "kernelspec": {
   "display_name": "Python 3 (ipykernel)",
   "language": "python",
   "name": "python3"
  },
  "language_info": {
   "codemirror_mode": {
    "name": "ipython",
    "version": 3
   },
   "file_extension": ".py",
   "mimetype": "text/x-python",
   "name": "python",
   "nbconvert_exporter": "python",
   "pygments_lexer": "ipython3",
   "version": "3.8.10"
  }
 },
 "nbformat": 4,
 "nbformat_minor": 5
}
