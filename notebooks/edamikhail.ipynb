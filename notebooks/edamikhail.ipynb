{
 "cells": [
  {
   "cell_type": "code",
   "execution_count": 1,
   "id": "b58acad9",
   "metadata": {},
   "outputs": [],
   "source": [
    "import pandas as pd, numpy as np, spacy, warnings\n",
    "from pathlib import Path\n",
    "\n",
    "\n",
    "dirfolder = '/srv/dataset/datafbp/'\n",
    "path_train = '/srv/dataset/datafbp/train.csv'\n",
    "path_test = '/srv/dataset/datafbp/test.csv'\n",
    "\n",
    "warnings.filterwarnings(\"ignore\")"
   ]
  },
  {
   "cell_type": "code",
   "execution_count": 2,
   "id": "627e2891",
   "metadata": {},
   "outputs": [],
   "source": [
    "nlp = spacy.load('en_core_web_sm', disable=['ner', 'parser'])"
   ]
  },
  {
   "cell_type": "code",
   "execution_count": 3,
   "id": "932730d7",
   "metadata": {},
   "outputs": [],
   "source": [
    "df_train = pd.read_csv(path_train)"
   ]
  },
  {
   "cell_type": "code",
   "execution_count": 4,
   "id": "ddb87c6b",
   "metadata": {},
   "outputs": [
    {
     "name": "stdout",
     "output_type": "stream",
     "text": [
      "<class 'pandas.core.frame.DataFrame'>\n",
      "RangeIndex: 3911 entries, 0 to 3910\n",
      "Data columns (total 8 columns):\n",
      " #   Column       Non-Null Count  Dtype  \n",
      "---  ------       --------------  -----  \n",
      " 0   text_id      3911 non-null   object \n",
      " 1   full_text    3911 non-null   object \n",
      " 2   cohesion     3911 non-null   float64\n",
      " 3   syntax       3911 non-null   float64\n",
      " 4   vocabulary   3911 non-null   float64\n",
      " 5   phraseology  3911 non-null   float64\n",
      " 6   grammar      3911 non-null   float64\n",
      " 7   conventions  3911 non-null   float64\n",
      "dtypes: float64(6), object(2)\n",
      "memory usage: 244.6+ KB\n"
     ]
    }
   ],
   "source": [
    "df_train.info()"
   ]
  },
  {
   "cell_type": "markdown",
   "id": "615f6455",
   "metadata": {},
   "source": [
    "Need detect nan or incorrect scores"
   ]
  },
  {
   "cell_type": "code",
   "execution_count": 5,
   "id": "2625a91e",
   "metadata": {},
   "outputs": [],
   "source": [
    "df_scores = df_train.select_dtypes(include=['float64'])"
   ]
  },
  {
   "cell_type": "code",
   "execution_count": 6,
   "id": "a0b8e77e",
   "metadata": {},
   "outputs": [],
   "source": [
    "def is_correct_score(s):\n",
    "    return not bool(s % 0.5) and (1. <= s <= 5.0)\n"
   ]
  },
  {
   "cell_type": "code",
   "execution_count": 7,
   "id": "f2eee338",
   "metadata": {},
   "outputs": [
    {
     "data": {
      "text/plain": [
       "(True, True)"
      ]
     },
     "execution_count": 7,
     "metadata": {},
     "output_type": "execute_result"
    }
   ],
   "source": [
    "is_correct_score(5), is_correct_score(3.5)"
   ]
  },
  {
   "cell_type": "code",
   "execution_count": 8,
   "id": "d0e0804b",
   "metadata": {},
   "outputs": [],
   "source": [
    "is_correct_scores = df_scores.apply(lambda row: all([is_correct_score(s) for s in row]), axis=1)"
   ]
  },
  {
   "cell_type": "code",
   "execution_count": 9,
   "id": "e2785d58",
   "metadata": {},
   "outputs": [],
   "source": [
    "assert np.where(~is_correct_scores)[0].size == 0, 'Exist Incorrect Scores in Some columns!'"
   ]
  },
  {
   "cell_type": "markdown",
   "id": "6125eae5",
   "metadata": {},
   "source": [
    "Checking duplicates in the Data by esse id."
   ]
  },
  {
   "cell_type": "code",
   "execution_count": 10,
   "id": "592a271a",
   "metadata": {},
   "outputs": [
    {
     "data": {
      "text/plain": [
       "Index(['text_id', 'full_text', 'cohesion', 'syntax', 'vocabulary',\n",
       "       'phraseology', 'grammar', 'conventions'],\n",
       "      dtype='object')"
      ]
     },
     "execution_count": 10,
     "metadata": {},
     "output_type": "execute_result"
    }
   ],
   "source": [
    "df_train.columns"
   ]
  },
  {
   "cell_type": "code",
   "execution_count": 11,
   "id": "bafd583a",
   "metadata": {},
   "outputs": [],
   "source": [
    "assert len(df_train.text_id.unique()) == df_train.shape[0], 'Exist any duplicates by \"text_id\" column.'"
   ]
  },
  {
   "cell_type": "markdown",
   "id": "14633e57",
   "metadata": {},
   "source": [
    "We need analyze text."
   ]
  },
  {
   "cell_type": "code",
   "execution_count": 12,
   "id": "7d178b72",
   "metadata": {},
   "outputs": [],
   "source": [
    "dftext = df_train.full_text"
   ]
  },
  {
   "cell_type": "code",
   "execution_count": 13,
   "id": "0d69c3f9",
   "metadata": {},
   "outputs": [],
   "source": [
    "lenghts = []\n",
    "for text in dftext:\n",
    "    text.split()"
   ]
  },
  {
   "cell_type": "code",
   "execution_count": null,
   "id": "149f46f8",
   "metadata": {},
   "outputs": [],
   "source": []
  }
 ],
 "metadata": {
  "kernelspec": {
   "display_name": "Python 3 (ipykernel)",
   "language": "python",
   "name": "python3"
  },
  "language_info": {
   "codemirror_mode": {
    "name": "ipython",
    "version": 3
   },
   "file_extension": ".py",
   "mimetype": "text/x-python",
   "name": "python",
   "nbconvert_exporter": "python",
   "pygments_lexer": "ipython3",
   "version": "3.8.10"
  }
 },
 "nbformat": 4,
 "nbformat_minor": 5
}
