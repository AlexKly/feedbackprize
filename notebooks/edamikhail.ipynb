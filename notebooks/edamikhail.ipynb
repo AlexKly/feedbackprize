{
 "cells": [
  {
   "cell_type": "code",
   "execution_count": 6,
   "id": "b58acad9",
   "metadata": {},
   "outputs": [],
   "source": [
    "import pandas as pd, numpy as np, spacy, warnings\n",
    "from pathlib import Path\n",
    "\n",
    "\n",
    "dirfolder = '/srv/dataset/datafbp/'\n",
    "path_train = '/srv/dataset/datafbp/train.csv'\n",
    "path_test = '/srv/dataset/datafbp/test.csv'\n",
    "\n",
    "warnings.filterwarnings(\"ignore\")"
   ]
  },
  {
   "cell_type": "code",
   "execution_count": 7,
   "id": "627e2891",
   "metadata": {},
   "outputs": [],
   "source": [
    "nlp = spacy.load('en_core_web_sm', disable=['ner', 'parser'])"
   ]
  },
  {
   "cell_type": "code",
   "execution_count": 8,
   "id": "932730d7",
   "metadata": {},
   "outputs": [],
   "source": [
    "df_train = pd.read_csv(path_train)"
   ]
  },
  {
   "cell_type": "code",
   "execution_count": 9,
   "id": "ddb87c6b",
   "metadata": {},
   "outputs": [
    {
     "name": "stdout",
     "output_type": "stream",
     "text": [
      "<class 'pandas.core.frame.DataFrame'>\n",
      "RangeIndex: 3911 entries, 0 to 3910\n",
      "Data columns (total 8 columns):\n",
      " #   Column       Non-Null Count  Dtype  \n",
      "---  ------       --------------  -----  \n",
      " 0   text_id      3911 non-null   object \n",
      " 1   full_text    3911 non-null   object \n",
      " 2   cohesion     3911 non-null   float64\n",
      " 3   syntax       3911 non-null   float64\n",
      " 4   vocabulary   3911 non-null   float64\n",
      " 5   phraseology  3911 non-null   float64\n",
      " 6   grammar      3911 non-null   float64\n",
      " 7   conventions  3911 non-null   float64\n",
      "dtypes: float64(6), object(2)\n",
      "memory usage: 244.6+ KB\n"
     ]
    }
   ],
   "source": [
    "df_train.info()"
   ]
  },
  {
   "cell_type": "markdown",
   "id": "615f6455",
   "metadata": {},
   "source": [
    "Need detect nan or incorrect scores"
   ]
  },
  {
   "cell_type": "code",
   "execution_count": 10,
   "id": "2625a91e",
   "metadata": {},
   "outputs": [],
   "source": [
    "df_scores = df_train.select_dtypes(include=['float64'])"
   ]
  },
  {
   "cell_type": "code",
   "execution_count": 11,
   "id": "a0b8e77e",
   "metadata": {},
   "outputs": [],
   "source": [
    "def is_correct_score(s):\n",
    "    return not bool(s % 0.5) and (1. <= s <= 5.0)\n"
   ]
  },
  {
   "cell_type": "code",
   "execution_count": 12,
   "id": "f2eee338",
   "metadata": {},
   "outputs": [
    {
     "data": {
      "text/plain": [
       "(True, True)"
      ]
     },
     "execution_count": 12,
     "metadata": {},
     "output_type": "execute_result"
    }
   ],
   "source": [
    "is_correct_score(5), is_correct_score(3.5)"
   ]
  },
  {
   "cell_type": "code",
   "execution_count": 13,
   "id": "d0e0804b",
   "metadata": {},
   "outputs": [],
   "source": [
    "is_correct_scores = df_scores.apply(lambda row: all([is_correct_score(s) for s in row]), axis=1)"
   ]
  },
  {
   "cell_type": "code",
   "execution_count": 14,
   "id": "e2785d58",
   "metadata": {},
   "outputs": [],
   "source": [
    "assert np.where(~is_correct_scores)[0].size == 0, 'Exist Incorrect Scores in Some columns!'"
   ]
  },
  {
   "cell_type": "markdown",
   "id": "6125eae5",
   "metadata": {},
   "source": [
    "Checking duplicates in the Data by esse id."
   ]
  },
  {
   "cell_type": "code",
   "execution_count": 15,
   "id": "592a271a",
   "metadata": {},
   "outputs": [
    {
     "data": {
      "text/plain": [
       "Index(['text_id', 'full_text', 'cohesion', 'syntax', 'vocabulary',\n",
       "       'phraseology', 'grammar', 'conventions'],\n",
       "      dtype='object')"
      ]
     },
     "execution_count": 15,
     "metadata": {},
     "output_type": "execute_result"
    }
   ],
   "source": [
    "df_train.columns"
   ]
  },
  {
   "cell_type": "code",
   "execution_count": 16,
   "id": "bafd583a",
   "metadata": {},
   "outputs": [],
   "source": [
    "assert len(df_train.text_id.unique()) == df_train.shape[0], 'Exist any duplicates by \"text_id\" column.'"
   ]
  },
  {
   "cell_type": "code",
   "execution_count": null,
   "id": "41d1271d",
   "metadata": {},
   "outputs": [],
   "source": []
  },
  {
   "cell_type": "code",
   "execution_count": null,
   "id": "73dcf024",
   "metadata": {},
   "outputs": [],
   "source": []
  },
  {
   "cell_type": "code",
   "execution_count": null,
   "id": "e684d5f0",
   "metadata": {},
   "outputs": [],
   "source": []
  },
  {
   "cell_type": "markdown",
   "id": "14633e57",
   "metadata": {},
   "source": [
    "We need analyze text."
   ]
  },
  {
   "cell_type": "code",
   "execution_count": null,
   "id": "86c022f3",
   "metadata": {},
   "outputs": [],
   "source": []
  },
  {
   "cell_type": "code",
   "execution_count": null,
   "id": "fae3588c",
   "metadata": {},
   "outputs": [],
   "source": []
  },
  {
   "cell_type": "code",
   "execution_count": 18,
   "id": "7d178b72",
   "metadata": {},
   "outputs": [],
   "source": [
    "dftext = df_train.full_text"
   ]
  },
  {
   "cell_type": "code",
   "execution_count": 20,
   "id": "0d69c3f9",
   "metadata": {},
   "outputs": [
    {
     "data": {
      "text/plain": [
       "array([\"I think that students would benefit from learning at home,because they wont have to change and get up early in the morning to shower and do there hair. taking only classes helps them because at there house they'll be pay more attention. they will be comfortable at home.\\n\\nThe hardest part of school is getting ready. you wake up go brush your teeth and go to your closet and look at your cloths. after you think you picked a outfit u go look in the mirror and youll either not like it or you look and see a stain. Then you'll have to change. with the online classes you can wear anything and stay home and you wont need to stress about what to wear.\\n\\nmost students usually take showers before school. they either take it before they sleep or when they wake up. some students do both to smell good. that causes them do miss the bus and effects on there lesson time cause they come late to school. when u have online classes u wont need to miss lessons cause you can get everything set up and go take a shower and when u get out your ready to go.\\n\\nwhen your home your comfortable and you pay attention. it gives then an advantage to be smarter and even pass there classmates on class work. public schools are difficult even if you try. some teacher dont know how to teach it in then way that students understand it. that causes students to fail and they may repeat the class.              \",\n",
       "       \"When a problem is a change you have to let it do the best on you no matter what is happening it can change your mind. sometimes you need to wake up and look what is around you because problems are the best way to change what you want to change along time ago. A\\n\\nproblem is a change for you because it can make you see different and help you to understand how tings wok.\\n\\nFirst of all it can make you see different then the others. For example i remember that when i came to the United States i think that nothing was going to change me because i think that nothing was going to change me because everything was different that my country and then i realist that wrong because a problem may change you but sometimes can not change the way it is, but i remember that i was really shy but i think that change a lot because sometimes my problems make me think that there is more thing that i never see in my life but i just need to see it from a different way and dont let nothing happened and ruing the change that i want to make because of just a problem. For example i think that nothing was going to change me and that i dont need to be shy anymore became i need to start seeing everything in a different ways because you can get mad at every one but you need to know what is going to happened after,\\n\\npeople may see you different but the only way that you know how to change is to do the best and don't let nothing or not body to change nothing about you. The way you want to change not one have that and can't do nothing about it because is your choice and your problems and you can decide what to do with it.\\n\\nsecond of all can help you to understand how things work. For instance my mom have a lot of problems but she have faith when she is around people, my mom is scare of high and i'm not scare of high i did not understand why my mos is scare of high and in not scare of high and every time i see my mom in a airplane it make me laugh because she is scare and is funny, but i see it from a different way and i like the high but also she have to understand that hoe things work in other people because it can no be the same as you. For example i think that my mom and me are different because we are and i have to understand that she does not like high and i need to understand that. to help someone to understand how things work you need to start to see how things work in that persons life.\\n\\nA problem is a change for you and can make you a different and help you to understand. Everyone has a different opinion and a different was to understand then others. everyone can see the different opinion and what other people think.\",\n",
       "       \"Dear, Principal\\n\\nIf u change the school policy of having a grade b average that unfair. Because many students have a C average. So that means that they cant go out for sports or other activities they want to do bad. That's like taking everything they have. What if kids want to become good at something, but now they cant because of that school policy. If they have a C average they should still be able to go out for sports or activities. A C average isn't that bad, its higher then a D average. If the school police was if you have a D average of lower they shouldn't do sports or activities. If they have a D average in school for not working hard, that's means that they in ain't going to try hard. If they have a C average and there trying hard they should be able to out for sports or activities. What if all the good people in sports have a C average in school, that means that they cant play and were going to lose every game we have. That's a good policy to get grade's up but don't take away something they care about. Everyone should be able to go out for sports if they want to. If the school policy happens, schools going to be boarding now, because now students cant go out for sports or other activities. The students that are doing good in school should feel good about themselves but we shouldn't take the other students away from the others ones. If we do this policy student will try to raised their grade but if they cant what happens they them. Should they just be out of it and think that schools boarding. If they do this its like taking away their video games. All I'm saying is that they have the right to go out for sports or activities.\",\n",
       "       ...,\n",
       "       '\"A problem is a chance for you to do your best\" What I think about that quote is that you cant do your best in every problem. If your still stuck on what it even means like I was in the first few minutes of seeing that, It means that in every challenge you see in life there is always a way to try your best and get through that challlenge, dispite what your mind tells you because your mind is your biggest enemy you will ever face. I dont particularly agree with that quote jsut because in certain problems even if you try your best you will still fail or if you just dont want to do the problem or other people around you dont then you most likley fail to. What im trying to get at to this quote is that instead of being \"For every problem there is a chance for you to do your best\" it should be \"For every problem or challenge there is always a way to get thorugh it\". Here is a few examples: If your dying from old age and your deadline is going to be this week. Then just die you get around the challlenge by dying because in most relgions there is something called heaven so you can die and go to heaven. Another example: Facing a hard question, just guess! You\\'ll have a 1/4th chance of getting it right and if you just guess it would be bettter then sitting on the problem for 20 minutes. ',\n",
       "       'Many people disagree with Albert Schweitzer\\'s quote, \"Example is not the main thing in influencing others; it is the only thing.\" They think that he meant that it doesn\\'t matter who did it, that the thing that matters is the example. In my case, Albert Schweitzer was right on his quote. Although many people say that there are better ways to influence others than just with your own experience because there are famous people with more interesting examples, actually the best way to influence others is setting a good example on your own behavior because it shows that you were capable of doing it no matter how hard it was for you and yet you still did it and also you will inspire other people to do their own example based on your ideas.\\n\\nSome people say that there are better ways to influence others because than with your own experience because there are famous people with more interesting examples. Meaning that you have to be someone important in order to influence others. They say that intelligence is another way to influence others because if you\\'re not smart you won\\'t make a good example for others to follow. In conclusion they say that you have to be a skilled and important person to have a huge influence on others.\\n\\nActually, the best way to influence other is not being someone important in society but setting a good example on your own behavior. It will show that that even though it was hard for you to do your example, in the end you still did it. That show that no matter who you are or where you come from as long as you have determination you will achieve your goals. Look at Barack Obama for example, he\\'s a black man and yet he still managed to become president of the United States. That really had a huge impact in the black community and inspired many of them to work hard for their goals.\\n\\nAlso, you will inspire other people based on your own ideas. An article on New York Times shows that most of the people based their ideas on other people\\'s examples, which means that if you continue working hard to achieve your goals you will appear on one of those articles and will inspire others. Think about it, wouldn\\'t you like to hear that one person gave you credits because became successful because he read about your experience and he based his ideas on that experience of yours?\\n\\nIn conclusion, many people will say that in order to influence others you need to become somebody important, but you know what? That doesn\\'t matter! As long as you have determination and great creativity you will achieve your goals and will inspire many people to follow their dreams no matter how much it will cost them. Like Albert Schweitzer said, \"Example is not the main thing in influencing others; it is the only thing.\" It doesn\\'t matter what people say, the one that has the power to inspire others is you! ',\n",
       "       \"Do you think that failure is the main thing for people consist on their goal's and success without lose their enthusiasm?\\n\\nI agree with the important role that failure play in the pursuit of success in life because, I think failure is the main key to people reach their goal's because they need to have the idea that after failure came the success, secondly they need to be positive and have in mind what they want and how they want to reach their success in life, and last they have to be prepared for failure, and they have to be prepared to confront the failure because they need to keep in mind that not everything is going to be in the way they want, but at the same time they always need to have in mind that everything is possible with effort.\\n\\nFirst, people need to have the idea that after failure came the success, because everything happens for a reason and if something goes wrong for certain reason in the moment when they try to success they need to accept things, and keep trying. They need to be really patience for example, when babies are trying to walk they fall many times but get up and they keep trying until they reach their goal which in this case is walk or, there have been many cases when people have car accidents and they lose the ability to walk that's something that does not stop them they keep trying even if take more than a year they don't give up because their goal is to be able to walk again, their goal is to be the person they used to be before they get in that car accident, and they just want to be able to keep doing all the stuff they used to do before all the tragedy happens.\\n\\nSecondly, everything depends in how positive people is because, if they have a negative mind and always act like their goal's is something impossible to come true their not going to accomplish nothing because people need to have the idea that they can make true everything they want, they don't have to be thinking in failure cause the more you think the more afraid you get to encourage yourself to make thing's happen and they have to try every day to improve and look for the resources available to success in life.\\n\\nFinally, they always need to keep in mind that there always would be a chance of failure and they have the right to be afraid but, that's something they need to live aside and they need to be focus on their goal,\\n\\nthey need to have the power to stop themselves whenever they want, and they have to be the ones to say to their self to stop when they think they already accomplish what they want but, they can't let people decide for them. Because sometimes people get jealous to see the other one's success in life and they try to guide people into failure.\\n\\nIn conclusion, there have been nothing that can't stop people to reach their goal's and success in life because everything is possible, people have to believe in them self and always be positive they always need to keep in mind that they are capable's of everything and they need to learn to not give up. In that way they would be able to do everything and be successful the key is always have and excellent attitude and be prepared for people to judge, and be prepared to failure and get up and make it see like their have been nothing wrong and keep going. They need to be positive in every movement they make and be positive in the way that everything is going to be exactly how the planned.\"],\n",
       "      dtype=object)"
      ]
     },
     "execution_count": 20,
     "metadata": {},
     "output_type": "execute_result"
    }
   ],
   "source": [
    "lenghts = []\n",
    "for text in dftext:\n",
    "    text.split()"
   ]
  },
  {
   "cell_type": "code",
   "execution_count": null,
   "id": "149f46f8",
   "metadata": {},
   "outputs": [],
   "source": []
  }
 ],
 "metadata": {
  "kernelspec": {
   "display_name": "Python 3 (ipykernel)",
   "language": "python",
   "name": "python3"
  },
  "language_info": {
   "codemirror_mode": {
    "name": "ipython",
    "version": 3
   },
   "file_extension": ".py",
   "mimetype": "text/x-python",
   "name": "python",
   "nbconvert_exporter": "python",
   "pygments_lexer": "ipython3",
   "version": "3.8.10"
  }
 },
 "nbformat": 4,
 "nbformat_minor": 5
}
